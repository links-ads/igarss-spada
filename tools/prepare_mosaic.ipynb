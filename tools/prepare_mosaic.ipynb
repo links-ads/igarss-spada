{
 "cells": [
  {
   "cell_type": "code",
   "execution_count": 1,
   "metadata": {},
   "outputs": [],
   "source": [
    "import os\n",
    "import numpy as np\n",
    "import rasterio\n",
    "from rasterio.windows import Window"
   ]
  },
  {
   "cell_type": "code",
   "execution_count": 2,
   "metadata": {},
   "outputs": [],
   "source": [
    "def preprocess_mosaic(country: str, year: int, gee_src: str, img_sections_path: str, tile_size: int):\n",
    "\n",
    "    bands = [\"B01\", \"B02\", \"B03\", \"B04\", \"B05\", \"B06\", \"B07\", \"B08\", \"B8A\", \"B09\", \"B11\", \"B12\"]\n",
    "\n",
    "    # GEE data initalization\n",
    "    gee_data = np.empty((len(bands), tile_size, tile_size))\n",
    "\n",
    "    # Bands opening\n",
    "    band_datasets = []\n",
    "    for band in bands:\n",
    "        band_datasets.append(rasterio.open(os.path.join(gee_src, f'{country}_{year}_{band}.tif')))\n",
    "\n",
    "\n",
    "    # Number of horizontal and vertical tiles and relative offsets\n",
    "    h_tiles = band_datasets[0].width // tile_size\n",
    "    v_tiles = band_datasets[0].height // tile_size\n",
    "    h_offset = (band_datasets[0].width % tile_size) // 2\n",
    "    v_offset = (band_datasets[0].height % tile_size) // 2\n",
    "\n",
    "    # GEE raster profile\n",
    "    gee_profile = band_datasets[0].profile\n",
    "    gee_profile.update({\n",
    "    'count': len(bands),\n",
    "    'height': tile_size,\n",
    "    'width': tile_size})\n",
    "\n",
    "    # Tiling\n",
    "    for h_i in range(h_tiles):\n",
    "        for v_i in range(v_tiles):\n",
    "                \n",
    "            # Bounds\n",
    "            h_start = h_i * tile_size + h_offset\n",
    "            v_start = v_i * tile_size + v_offset\n",
    "\n",
    "            # Window\n",
    "            window = Window(h_start, v_start, tile_size, tile_size)\n",
    "                \n",
    "            gee_profile['transform'] = band_datasets[0].window_transform(window)\n",
    "\n",
    "            # GEE and CLC data\n",
    "            for i, band_dataset in enumerate(band_datasets):\n",
    "                gee_data[i] = band_dataset.read(window = window)\n",
    "\n",
    "            # Setting NaN values to 0 on GEE data\n",
    "            gee_data = np.nan_to_num(gee_data)\n",
    "\n",
    "            # Skip empty tiles\n",
    "            if np.all(gee_data == 0):\n",
    "                continue\n",
    "            \n",
    "            # GEE destination path\n",
    "            gee_dst_file = f'{country}_{year}_{h_i}_{v_i}.tif'\n",
    "            gee_dst_path = os.path.join(img_sections_path, gee_dst_file)\n",
    "\n",
    "            with rasterio.open(gee_dst_path, 'w', **gee_profile) as gee_tile:\n",
    "                gee_tile.write(gee_data)\n",
    "    \n",
    "    for band_dataset in band_datasets:\n",
    "        band_dataset.close()"
   ]
  },
  {
   "attachments": {},
   "cell_type": "markdown",
   "metadata": {},
   "source": [
    "Variables"
   ]
  },
  {
   "cell_type": "code",
   "execution_count": 3,
   "metadata": {},
   "outputs": [],
   "source": [
    "countries = ['Bornate']\n",
    "year = 2019\n",
    "gee_src = '../data/Inferences/2019/Bands/'\n",
    "img_sections_path = '../data/Inferences/2019/Sections/'\n",
    "tile_size = 2048"
   ]
  },
  {
   "cell_type": "code",
   "execution_count": 4,
   "metadata": {},
   "outputs": [],
   "source": [
    "for country in countries:\n",
    "    preprocess_mosaic(country=country, year=year, gee_src=gee_src, img_sections_path=img_sections_path, tile_size=tile_size)"
   ]
  },
  {
   "attachments": {},
   "cell_type": "markdown",
   "metadata": {},
   "source": [
    "Empty Labels Generation"
   ]
  },
  {
   "cell_type": "code",
   "execution_count": 5,
   "metadata": {},
   "outputs": [],
   "source": [
    "import rasterio\n",
    "import os\n",
    "from pathlib import Path\n",
    "import numpy as np"
   ]
  },
  {
   "cell_type": "code",
   "execution_count": 6,
   "metadata": {},
   "outputs": [],
   "source": [
    "ann_dst_path = '../data/Inferences/2019/Labels/'"
   ]
  },
  {
   "cell_type": "code",
   "execution_count": 7,
   "metadata": {},
   "outputs": [],
   "source": [
    "sections = os.listdir(img_sections_path)\n",
    "dummy_data = np.zeros((1, tile_size, tile_size))\n",
    "for section in sections:\n",
    "    with rasterio.open(os.path.join(img_sections_path, section)) as dst:\n",
    "        profile = dst.profile\n",
    "        profile.update({\n",
    "            'count': 1,\n",
    "            'dtype': np.int8\n",
    "        })\n",
    "    ann_section = f\"{Path(section).stem}_MAP.tif\"\n",
    "\n",
    "    with rasterio.open(os.path.join(ann_dst_path, ann_section), 'w', **profile) as dst:\n",
    "        dst.write(dummy_data)"
   ]
  }
 ],
 "metadata": {
  "kernelspec": {
   "display_name": ".venv",
   "language": "python",
   "name": "python3"
  },
  "language_info": {
   "codemirror_mode": {
    "name": "ipython",
    "version": 3
   },
   "file_extension": ".py",
   "mimetype": "text/x-python",
   "name": "python",
   "nbconvert_exporter": "python",
   "pygments_lexer": "ipython3",
   "version": "3.9.16"
  },
  "orig_nbformat": 4,
  "vscode": {
   "interpreter": {
    "hash": "b734447874704eb696018528e9c93cd3f4adaed07512dba8f8661a1641606e88"
   }
  }
 },
 "nbformat": 4,
 "nbformat_minor": 2
}
